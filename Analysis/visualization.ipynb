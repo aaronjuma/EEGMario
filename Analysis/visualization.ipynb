{
 "cells": [
  {
   "cell_type": "markdown",
   "metadata": {},
   "source": [
    "# Packages"
   ]
  },
  {
   "cell_type": "code",
   "execution_count": 1,
   "metadata": {},
   "outputs": [],
   "source": [
    "import pandas as pd\n",
    "import matplotlib.pyplot as plt\n",
    "import numpy as np\n",
    "import seaborn as sns"
   ]
  },
  {
   "cell_type": "markdown",
   "metadata": {},
   "source": [
    "## 1 - CSV Processing Functions"
   ]
  },
  {
   "cell_type": "markdown",
   "metadata": {},
   "source": [
    "### 1.1 Processing and Averaging Frontal or Back Electrodes"
   ]
  },
  {
   "cell_type": "code",
   "execution_count": 2,
   "metadata": {},
   "outputs": [],
   "source": [
    "def process_and_average(arr, wave, placement=\"f\"):\n",
    "    \"\"\"\n",
    "    Get average power of either frontal or back electrodes for a given time\n",
    "    \n",
    "    Arguments:\n",
    "        arr         -- CSV Data Frame for a trial of a person (Ex. Baseline recording for subject N)\n",
    "        wave        --   String to identify wave type (Alpha, Beta, Theta, Gamma, Delta)\n",
    "        placement   -- String to identify if it is back or front electrodes\n",
    "    \n",
    "    Returns:\n",
    "        averaged_power -- (n_times) numpy array \n",
    "    \"\"\"\n",
    "\n",
    "    # Process Wave Identifier\n",
    "    wave = wave.title()\n",
    "\n",
    "    # Create temporary arrays to contain the AF7 and AF8 electrode recordings\n",
    "    temp1 = None\n",
    "    temp2 = None\n",
    "\n",
    "    # Isolate the frontal electrodes\n",
    "    if placement.lower() == \"f\":\n",
    "        temp1 = arr[wave+\"_AF7\"]\n",
    "        temp2 = arr[wave+\"_AF8\"]\n",
    "\n",
    "    # Isolate the back electrodes\n",
    "    elif placement.lower() == \"b\":\n",
    "        temp1 = arr[wave+\"_TP9\"]\n",
    "        temp2 = arr[wave+\"_TP10\"]\n",
    "\n",
    "    # Invalid electrode placement\n",
    "    else:\n",
    "        raise Exception('Invalid Electrode Placement')\n",
    "    \n",
    "    # Drop all the NaN values\n",
    "    temp1.dropna(axis = 0, inplace=True)\n",
    "    temp2.dropna(axis = 0, inplace=True)\n",
    "\n",
    "    # Average both electrode arrays\n",
    "    avg = ( temp1 + temp2 ) / 2\n",
    "\n",
    "    # Convert from dB to actual FFT values\n",
    "    avg = 10**avg\n",
    "\n",
    "    return avg.to_numpy()"
   ]
  },
  {
   "cell_type": "markdown",
   "metadata": {},
   "source": [
    "### 1.2 Getting Specific Wave Type for all Trials"
   ]
  },
  {
   "cell_type": "code",
   "execution_count": 3,
   "metadata": {},
   "outputs": [],
   "source": [
    "def get_wave(wave, placement, baseline, easy, medium, hard, extreme):\n",
    "    \"\"\"\n",
    "    Return a specific wave from all trials\n",
    "    \n",
    "    Arguments:\n",
    "        wave        -- String to identify wave type (Alpha, Beta, Theta, Gamma, Delta)\n",
    "        placement   -- String to identify if it is back or front electrodes\n",
    "        baseline    -- CSV Data Frame for all baseline trials\n",
    "        easy        -- CSV Data Frame for all easy trials\n",
    "        medium      -- CSV Data Frame for all medium trials\n",
    "        hard        -- CSV Data Frame for all hard trials\n",
    "        extreme     -- CSV Data Frame for all extreme trials\n",
    "    Returns:\n",
    "        data        -- (n_difficulty, n_subject, n_time) numpy array \n",
    "    \"\"\"\n",
    "\n",
    "    data    = []\n",
    "    base_   = [process_and_average(i, wave, placement) for i in baseline]\n",
    "    easy_   = [process_and_average(i, wave, placement) for i in easy]\n",
    "    med_    = [process_and_average(i, wave, placement) for i in medium]\n",
    "    hard_   = [process_and_average(i, wave, placement) for i in hard]\n",
    "    ext_    = [process_and_average(i, wave, placement) for i in extreme]\n",
    "\n",
    "    data.append(base_)\n",
    "    data.append(easy_)\n",
    "    data.append(med_)\n",
    "    data.append(hard_)\n",
    "    data.append(ext_)\n",
    "\n",
    "    return data\n",
    "    # Data[0] = Baseline data for all subjects with desired wave type\n",
    "    # Data[0][0] = Baseline data for subject 1 with desired wave type"
   ]
  },
  {
   "cell_type": "markdown",
   "metadata": {},
   "source": [
    "### 1.3 Processing all Data"
   ]
  },
  {
   "cell_type": "code",
   "execution_count": 4,
   "metadata": {},
   "outputs": [],
   "source": [
    "baseline = []\n",
    "easy = []\n",
    "medium = []\n",
    "hard = []\n",
    "extreme = []\n",
    "\n",
    "for i in range(1,3):\n",
    "    baseline.append(pd.read_csv('Control/'+str(i)+'.csv'))\n",
    "    easy.append(pd.read_csv('Easy/'+str(i)+'.csv'))\n",
    "    medium.append(pd.read_csv('Medium/'+str(i)+'.csv'))\n",
    "    hard.append(pd.read_csv('Hard/'+str(i)+'.csv'))\n",
    "    extreme.append(pd.read_csv('Extreme/'+str(i)+'.csv'))"
   ]
  },
  {
   "cell_type": "markdown",
   "metadata": {},
   "source": [
    "## 2 - Plotting Absolute Wave Types"
   ]
  },
  {
   "cell_type": "markdown",
   "metadata": {},
   "source": [
    "### 2.1 Plotting Function"
   ]
  },
  {
   "cell_type": "code",
   "execution_count": 5,
   "metadata": {},
   "outputs": [],
   "source": [
    "def plot_wave(wave, placement, baseline, easy, medium, hard, extreme):\n",
    "    \"\"\"\n",
    "    Return a specific wave from all trials\n",
    "    \n",
    "    Arguments:\n",
    "        wave        -- String to identify wave type (Alpha, Beta, Theta, Gamma, Delta)\n",
    "        placement   -- String to identify if it is back or front electrodes\n",
    "        baseline    -- CSV Data Frame for all baseline trials\n",
    "        easy        -- CSV Data Frame for all easy trials\n",
    "        medium      -- CSV Data Frame for all medium trials\n",
    "        hard        -- CSV Data Frame for all hard trials\n",
    "        extreme     -- CSV Data Frame for all extreme trials\n",
    "    Returns:\n",
    "        none        -- Prints Box Plots\n",
    "    \"\"\"\n",
    "\n",
    "    # Gets Data for specific wave\n",
    "    data = get_wave(wave, placement, baseline, easy, medium, hard, extreme)\n",
    "\n",
    "    # Calculate mean\n",
    "    mean_base = [i.mean() for i in data[0]]\n",
    "    mean_easy = [i.mean() for i in data[1]]\n",
    "    mean_med  = [i.mean() for i in data[2]]\n",
    "    mean_hard = [i.mean() for i in data[3]]\n",
    "    mean_ext  = [i.mean() for i in data[4]]\n",
    "\n",
    "    # Calculate standard deviation\n",
    "    std_base = [i.std() for i in data[0]]\n",
    "    std_easy = [i.std() for i in data[1]]\n",
    "    std_med  = [i.std() for i in data[2]]\n",
    "    std_hard = [i.std() for i in data[3]]\n",
    "    std_ext  = [i.std() for i in data[4]]\n",
    "\n",
    "    # Plotting\n",
    "    labels = [f'Subject {i+1}' for i in range(len(baseline))]\n",
    "    x = np.arange(len(labels))\n",
    "    width = 0.05\n",
    "\n",
    "    fig, ax = plt.subplots(figsize=(12,6))\n",
    "    rects1 = ax.bar(x,          mean_base, width, yerr=std_base, label = \"Baseline\", capsize = 5)\n",
    "    rects2 = ax.bar(x+ width,   mean_easy, width, yerr=std_easy, label = \"Easy\", capsize = 5)\n",
    "    rects3 = ax.bar(x+ 2*width, mean_med, width, yerr=std_med, label = \"Medium\", capsize = 5)\n",
    "    rects4 = ax.bar(x+ 3*width, mean_hard, width, yerr=std_hard, label = \"Hard\", capsize = 5)\n",
    "    rects5 = ax.bar(x+ 4*width, mean_ext, width, yerr=std_ext, label = \"Extreme\", capsize = 5)\n",
    "\n",
    "    # Labels\n",
    "    electrode_placement = \"\"\n",
    "    if placement.lower() == \"f\":\n",
    "        electrode_placement = \"Front\"\n",
    "    else:\n",
    "        electrode_placement = \"Back\"\n",
    "\n",
    "    ax.set_ylabel(wave + \" [dB]\")\n",
    "    ax.set_title(electrode_placement + \" \" + wave + \" Levels\")\n",
    "    ax.set_xticks(x)\n",
    "    ax.set_xticklabels(labels)\n",
    "    ax.legend()\n",
    "\n",
    "    fig.tight_layout()\n",
    "    plt.show()"
   ]
  },
  {
   "cell_type": "markdown",
   "metadata": {},
   "source": [
    "### 2.2 Plotting Front Absolute Box Plots"
   ]
  },
  {
   "cell_type": "code",
   "execution_count": null,
   "metadata": {},
   "outputs": [],
   "source": [
    "plot_wave(\"Alpha\", \"f\", baseline, easy, medium, hard, extreme)"
   ]
  },
  {
   "cell_type": "code",
   "execution_count": null,
   "metadata": {},
   "outputs": [],
   "source": [
    "plot_wave(\"Theta\", \"f\", baseline, easy, medium, hard, extreme)"
   ]
  },
  {
   "cell_type": "code",
   "execution_count": null,
   "metadata": {},
   "outputs": [],
   "source": [
    "plot_wave(\"Gamma\", \"f\", baseline, easy, medium, hard, extreme)"
   ]
  },
  {
   "cell_type": "code",
   "execution_count": null,
   "metadata": {},
   "outputs": [],
   "source": [
    "plot_wave(\"Beta\", \"f\", baseline, easy, medium, hard, extreme)"
   ]
  },
  {
   "cell_type": "markdown",
   "metadata": {},
   "source": [
    "### 2.3 Plotting Front Absolute Box Plots"
   ]
  },
  {
   "cell_type": "code",
   "execution_count": null,
   "metadata": {},
   "outputs": [],
   "source": [
    "plot_wave(\"Alpha\", \"b\", baseline, easy, medium, hard, extreme)"
   ]
  },
  {
   "cell_type": "code",
   "execution_count": null,
   "metadata": {},
   "outputs": [],
   "source": [
    "plot_wave(\"Beta\", \"b\", baseline, easy, medium, hard, extreme)"
   ]
  },
  {
   "cell_type": "code",
   "execution_count": null,
   "metadata": {},
   "outputs": [],
   "source": [
    "plot_wave(\"Gamma\", \"b\", baseline, easy, medium, hard, extreme)"
   ]
  },
  {
   "cell_type": "code",
   "execution_count": null,
   "metadata": {},
   "outputs": [],
   "source": [
    "plot_wave(\"Theta\", \"b\", baseline, easy, medium, hard, extreme)"
   ]
  },
  {
   "cell_type": "markdown",
   "metadata": {},
   "source": [
    "## 3 - Plotting Relative Wave Types"
   ]
  },
  {
   "cell_type": "markdown",
   "metadata": {},
   "source": [
    "### 3.1 Calculating Relative Waves"
   ]
  },
  {
   "cell_type": "code",
   "execution_count": 14,
   "metadata": {},
   "outputs": [],
   "source": [
    "def calculate_relative(baseline, easy, medium, hard, extreme):\n",
    "    \"\"\"\n",
    "    Return an array containing all relative powers\n",
    "    \n",
    "    Arguments:\n",
    "        baseline    -- CSV Data Frame for all baseline trials\n",
    "        easy        -- CSV Data Frame for all easy trials\n",
    "        medium      -- CSV Data Frame for all medium trials\n",
    "        hard        -- CSV Data Frame for all hard trials\n",
    "        extreme     -- CSV Data Frame for all extreme trials\n",
    "    Returns:\n",
    "        relative_data -- (n_wave, n_difficulty, n_subjects, n_time) numpy array\n",
    "    \"\"\"\n",
    "\n",
    "    # Gets all the Wave Types\n",
    "    alpha_ = get_wave(\"Alpha\", \"f\", baseline, easy, medium, hard, extreme)\n",
    "    beta_ = get_wave(\"Beta\", \"f\", baseline, easy, medium, hard, extreme)\n",
    "    delta_ = get_wave(\"Delta\", \"f\", baseline, easy, medium, hard, extreme)\n",
    "    theta_ = get_wave(\"Theta\", \"f\", baseline, easy, medium, hard, extreme)\n",
    "    gamma_ = get_wave(\"Gamma\", \"f\", baseline, easy, medium, hard, extreme)\n",
    "\n",
    "    # 0-Alpha, 1-Beta, 2-Delta, 3-Theta, 4-Gamma\n",
    "    relative_powers = [] #size - (power, difficulty, n_subject, n_time)\n",
    "    \n",
    "    # Alpha Relative\n",
    "    alpha_rel = []\n",
    "    for i in range(0, 5):\n",
    "        power = []\n",
    "        for j in range(len(baseline)):\n",
    "            power.append(\n",
    "                alpha_[i][j] / (alpha_[i][j] + beta_[i][j] + delta_[i][j] + theta_[i][j] + gamma_[i][j])\n",
    "            )\n",
    "\n",
    "        alpha_rel.append(power)\n",
    "\n",
    "    # Beta Relative\n",
    "    beta_rel = []\n",
    "    for i in range(0, 5):\n",
    "        power = []\n",
    "        for j in range(len(baseline)):\n",
    "            power.append(\n",
    "                beta_[i][j] / (alpha_[i][j] + beta_[i][j] + delta_[i][j] + theta_[i][j] + gamma_[i][j])\n",
    "            )\n",
    "\n",
    "        beta_rel.append(power)\n",
    "\n",
    "    # Delta Relative\n",
    "    delta_rel = []\n",
    "    for i in range(0, 5):\n",
    "        power = []\n",
    "        for j in range(len(baseline)):\n",
    "            power.append(\n",
    "                delta_[i][j] / (alpha_[i][j] + beta_[i][j] + delta_[i][j] + theta_[i][j] + gamma_[i][j])\n",
    "            )\n",
    "\n",
    "        delta_rel.append(power)\n",
    "\n",
    "    # Theta Relative\n",
    "    theta_rel = []\n",
    "    for i in range(0, 5):\n",
    "        power = []\n",
    "        for j in range(len(baseline)):\n",
    "            power.append(\n",
    "                theta_[i][j] / (alpha_[i][j] + beta_[i][j] + delta_[i][j] + theta_[i][j] + gamma_[i][j])\n",
    "            )\n",
    "\n",
    "        theta_rel.append(power)\n",
    "\n",
    "    # Gamma Relative\n",
    "    gamma_rel = []\n",
    "    for i in range(0, 5):\n",
    "        power = []\n",
    "        for j in range(len(baseline)):\n",
    "            power.append(\n",
    "                gamma_[i][j] / (alpha_[i][j] + beta_[i][j] + delta_[i][j] + theta_[i][j] + gamma_[i][j])\n",
    "            )\n",
    "\n",
    "        gamma_rel.append(power)\n",
    "\n",
    "\n",
    "    relative_powers.append(alpha_rel)\n",
    "    relative_powers.append(beta_rel)\n",
    "    relative_powers.append(delta_rel)\n",
    "    relative_powers.append(theta_rel)\n",
    "    relative_powers.append(gamma_rel)\n",
    "\n",
    "    return relative_powers\n",
    "\n",
    "relative_data = calculate_relative(baseline, easy, medium, hard, extreme)"
   ]
  },
  {
   "cell_type": "code",
   "execution_count": 15,
   "metadata": {},
   "outputs": [],
   "source": [
    "def plot_relative(wave, data):\n",
    "\n",
    "    data_ = []\n",
    "    if wave.lower() == \"alpha\":\n",
    "        data_ = data[0]\n",
    "    elif wave.lower() == \"beta\":\n",
    "        data_ = data[1]\n",
    "    elif wave.lower() == \"delta\":\n",
    "        data_ = data[2]\n",
    "    elif wave.lower() == \"theta\":\n",
    "        data_ = data[3]\n",
    "    elif wave.lower() == \"gamma\":\n",
    "        data_ = data[4]\n",
    "    else:\n",
    "        raise Exception('Invalid Waveform')\n",
    "\n",
    "\n",
    "    mean_base = [i.mean() for i in data_[0]]\n",
    "    mean_easy = [i.mean() for i in data_[1]]\n",
    "    mean_med  = [i.mean() for i in data_[2]]\n",
    "    mean_hard = [i.mean() for i in data_[3]]\n",
    "    mean_ext  = [i.mean() for i in data_[4]]\n",
    "\n",
    "    std_base = [i.std() for i in data_[0]]\n",
    "    std_easy = [i.std() for i in data_[1]]\n",
    "    std_med  = [i.std() for i in data_[2]]\n",
    "    std_hard = [i.std() for i in data_[3]]\n",
    "    std_ext  = [i.std() for i in data_[4]]\n",
    "\n",
    "    labels = [f'Subject {i+1}' for i in range(len(baseline))]\n",
    "    x = np.arange(len(labels))\n",
    "    width = 0.05\n",
    "\n",
    "    fig, ax = plt.subplots(figsize=(12,6))\n",
    "    rects1 = ax.bar(x,          mean_base, width, yerr=std_base, label = \"Baseline\", capsize = 5)\n",
    "    rects2 = ax.bar(x+ width,   mean_easy, width, yerr=std_easy, label = \"Easy\", capsize = 5)\n",
    "    rects3 = ax.bar(x+ 2*width, mean_med, width, yerr=std_med, label = \"Medium\", capsize = 5)\n",
    "    rects4 = ax.bar(x+ 3*width, mean_hard, width, yerr=std_hard, label = \"Hard\", capsize = 5)\n",
    "    rects5 = ax.bar(x+ 4*width, mean_ext, width, yerr=std_ext, label = \"Extreme\", capsize = 5)\n",
    "\n",
    "    ax.set_ylabel(wave + \" Relative Power [dB]\")\n",
    "    ax.set_title(wave + \" Relative Levels\")\n",
    "    ax.set_xticks(x)\n",
    "    ax.set_xticklabels(labels)\n",
    "    ax.legend()\n",
    "\n",
    "    fig.tight_layout()\n",
    "    plt.show()"
   ]
  },
  {
   "cell_type": "code",
   "execution_count": null,
   "metadata": {},
   "outputs": [],
   "source": [
    "plot_relative(\"alpha\", relative_data)"
   ]
  },
  {
   "cell_type": "code",
   "execution_count": null,
   "metadata": {},
   "outputs": [],
   "source": [
    "plot_relative(\"beta\", relative_data)"
   ]
  },
  {
   "cell_type": "code",
   "execution_count": null,
   "metadata": {},
   "outputs": [],
   "source": [
    "plot_relative(\"delta\", relative_data)"
   ]
  },
  {
   "cell_type": "code",
   "execution_count": null,
   "metadata": {},
   "outputs": [],
   "source": [
    "plot_relative(\"theta\", relative_data)"
   ]
  },
  {
   "cell_type": "code",
   "execution_count": null,
   "metadata": {},
   "outputs": [],
   "source": [
    "plot_relative(\"gamma\", relative_data)"
   ]
  },
  {
   "cell_type": "markdown",
   "metadata": {},
   "source": [
    "## 4 - Plotting Engagement Level"
   ]
  },
  {
   "cell_type": "code",
   "execution_count": null,
   "metadata": {},
   "outputs": [],
   "source": [
    "def plot_engagement(baseline, easy, medium, hard, extreme):\n",
    "    # Beta / (Alpha + Theta)\n",
    "    alpha_ = get_wave(\"Alpha\", \"f\", baseline, easy, medium, hard, extreme)\n",
    "    beta_ = get_wave(\"Beta\", \"f\", baseline, easy, medium, hard, extreme)\n",
    "    theta_ = get_wave(\"Theta\", \"f\", baseline, easy, medium, hard, extreme)\n",
    "\n",
    "    engagement = []\n",
    "    \n",
    "    for i in range(0, 5):\n",
    "        engagement_ = []\n",
    "        for j in range(len(baseline)):\n",
    "            engagement_.append(beta_[i][j] / (alpha_[i][j] + theta_[i][j]))\n",
    "\n",
    "        engagement.append(engagement_)\n",
    "\n",
    "    mean_base = [i.mean() for i in engagement[0]]\n",
    "    mean_easy = [i.mean() for i in engagement[1]]\n",
    "    mean_med  = [i.mean() for i in engagement[2]]\n",
    "    mean_hard = [i.mean() for i in engagement[3]]\n",
    "    mean_ext  = [i.mean() for i in engagement[4]]\n",
    "\n",
    "    std_base = [i.std() for i in engagement[0]]\n",
    "    std_easy = [i.std() for i in engagement[1]]\n",
    "    std_med  = [i.std() for i in engagement[2]]\n",
    "    std_hard = [i.std() for i in engagement[3]]\n",
    "    std_ext  = [i.std() for i in engagement[4]]\n",
    "\n",
    "    labels = [f'Subject {i+1}' for i in range(len(baseline))]\n",
    "    x = np.arange(len(labels))\n",
    "    width = 0.05\n",
    "\n",
    "    fig, ax = plt.subplots(figsize=(12,6))\n",
    "    rects1 = ax.bar(x,          mean_base, width, yerr=std_base, label = \"Baseline\", capsize = 5)\n",
    "    rects2 = ax.bar(x+ width,   mean_easy, width, yerr=std_easy, label = \"Easy\", capsize = 5)\n",
    "    rects3 = ax.bar(x+ 2*width, mean_med, width, yerr=std_med, label = \"Medium\", capsize = 5)\n",
    "    rects4 = ax.bar(x+ 3*width, mean_hard, width, yerr=std_hard, label = \"Hard\", capsize = 5)\n",
    "    rects5 = ax.bar(x+ 4*width, mean_ext, width, yerr=std_ext, label = \"Extreme\", capsize = 5)\n",
    "\n",
    "    ax.set_ylabel(\"Engagement [dB]\")\n",
    "    ax.set_title(\"Engagement Levels\")\n",
    "    ax.set_xticks(x)\n",
    "    ax.set_xticklabels(labels)\n",
    "    ax.legend()\n",
    "\n",
    "    fig.tight_layout()\n",
    "    plt.show()\n",
    "    \n",
    "plot_engagement(baseline, easy, medium, hard, extreme)"
   ]
  },
  {
   "cell_type": "markdown",
   "metadata": {},
   "source": [
    "## 5. Line Plot Visualization"
   ]
  },
  {
   "cell_type": "markdown",
   "metadata": {},
   "source": [
    "### 5.1 Line Plot Visualization for A Specific Wave at a Specific Trial"
   ]
  },
  {
   "cell_type": "code",
   "execution_count": 55,
   "metadata": {},
   "outputs": [],
   "source": [
    "def lineplot_wave(wave, placement, trial_type, trial_name):\n",
    "    data_ = [process_and_average(i, wave, placement) for i in trial_type]\n",
    "    \n",
    "    min_length = min([len(i) for i in data_])\n",
    "    trimmed_data = [i[:min_length] for i in data_]\n",
    "    \n",
    "    avg_data = np.mean(trimmed_data, axis=0)\n",
    "    std_data = np.std(trimmed_data, axis=0)\n",
    "\n",
    "    plt.figure(figsize=(14,8))\n",
    "    for i in trimmed_data:\n",
    "        plt.plot(i, alpha=0.6)\n",
    "\n",
    "    plt.plot(avg_data, color = \"r\", label = \"Average \" + wave)\n",
    "    \n",
    "    plt.title(wave + \" waves for \" + trial_name + \" trials\")\n",
    "    plt.xlabel(\"Time (seconds)\")\n",
    "    plt.ylabel(\"Power [dB]\")\n",
    "    plt.legend()\n",
    "    plt.grid(True, which=\"both\", linestyle=\"--\", linewidth=0.5)\n",
    "    plt.tight_layout()\n",
    "    plt.show()"
   ]
  },
  {
   "cell_type": "code",
   "execution_count": null,
   "metadata": {},
   "outputs": [],
   "source": [
    "lineplot_wave(\"Alpha\", \"f\", baseline, \"Baseline\")"
   ]
  },
  {
   "cell_type": "code",
   "execution_count": null,
   "metadata": {},
   "outputs": [],
   "source": [
    "lineplot_wave(\"Beta\", \"f\", medium, \"Medium\")"
   ]
  },
  {
   "cell_type": "markdown",
   "metadata": {},
   "source": [
    "### 5.2 Line Plot Visualization of a subject"
   ]
  },
  {
   "cell_type": "code",
   "execution_count": 77,
   "metadata": {},
   "outputs": [],
   "source": [
    "def lineplot_subject(subject, wave, placement, baseline, easy, medium, hard, extreme):\n",
    "    data_ = get_wave(wave, placement, baseline, easy, medium, hard, extreme)\n",
    "    if subject > len(data_[0]) or subject < 0:\n",
    "        raise Exception('Invalid Subject')\n",
    "\n",
    "    min_length = min([len(i[subject]) for i in data_])\n",
    "    trimmed_data = [i[subject][:min_length] for i in data_]\n",
    "\n",
    "    plt.figure(figsize=(14,8))\n",
    "    plt.plot(trimmed_data[0], alpha=0.6, label=\"Baseline\")\n",
    "    plt.plot(trimmed_data[1], alpha=0.6, label=\"Easy\")\n",
    "    plt.plot(trimmed_data[2], alpha=0.6, label=\"Medium\")\n",
    "    plt.plot(trimmed_data[3], alpha=0.6, label=\"Hard\")\n",
    "    plt.plot(trimmed_data[4], alpha=0.6, label=\"Extreme\")\n",
    "    \n",
    "    plt.title(wave + \" waves for Subject \" + f'{subject}')\n",
    "    plt.xlabel(\"Time (seconds)\")\n",
    "    plt.ylabel(\"Power [dB]\")\n",
    "    plt.legend()\n",
    "    plt.grid(True, which=\"both\", linestyle=\"--\", linewidth=0.5)\n",
    "    plt.tight_layout()\n",
    "    plt.show()"
   ]
  },
  {
   "cell_type": "code",
   "execution_count": null,
   "metadata": {},
   "outputs": [],
   "source": [
    "lineplot_subject(0, \"Alpha\", 'f', baseline, easy, medium, hard, extreme)"
   ]
  },
  {
   "cell_type": "code",
   "execution_count": null,
   "metadata": {},
   "outputs": [],
   "source": [
    "lineplot_subject(1, \"Beta\", 'f', baseline, easy, medium, hard, extreme)"
   ]
  },
  {
   "cell_type": "markdown",
   "metadata": {},
   "source": [
    "### 5.3 Line Plot Visualization for A Relative Waves at a Specific Trial"
   ]
  },
  {
   "cell_type": "code",
   "execution_count": null,
   "metadata": {},
   "outputs": [],
   "source": [
    "def lineplot_engagement(subject, baseline, easy, medium, hard, extreme):\n",
    "    # Beta / (Alpha + Theta)\n",
    "    alpha_ = get_wave(\"Alpha\", \"f\", baseline, easy, medium, hard, extreme)\n",
    "    beta_ = get_wave(\"Beta\", \"f\", baseline, easy, medium, hard, extreme)\n",
    "    theta_ = get_wave(\"Theta\", \"f\", baseline, easy, medium, hard, extreme)\n",
    "\n",
    "    engagement = []\n",
    "    \n",
    "    for i in range(0, 5):\n",
    "        engagement_ = []\n",
    "        for j in range(len(baseline)):\n",
    "            engagement_.append(beta_[i][j] / (alpha_[i][j] + theta_[i][j]))\n",
    "\n",
    "        engagement.append(engagement_)\n",
    "\n",
    "    min_length = min([len(i[subject]) for i in engagement])\n",
    "    trimmed_data = [i[subject][:min_length] for i in engagement]\n",
    "\n",
    "    plt.figure(figsize=(14,8))\n",
    "    plt.plot(trimmed_data[0], alpha=0.6, label=\"Baseline\")\n",
    "    plt.plot(trimmed_data[1], alpha=0.6, label=\"Easy\")\n",
    "    plt.plot(trimmed_data[2], alpha=0.6, label=\"Medium\")\n",
    "    plt.plot(trimmed_data[3], alpha=0.6, label=\"Hard\")\n",
    "    plt.plot(trimmed_data[4], alpha=0.6, label=\"Extreme\")\n",
    "\n",
    "    plt.title(\"Engagement Index for Subject \" + f'{subject}')\n",
    "    plt.xlabel(\"Time (seconds)\")\n",
    "    plt.ylabel(\"Power [dB]\")\n",
    "    plt.legend()\n",
    "    plt.grid(True, which=\"both\", linestyle=\"--\", linewidth=0.5)\n",
    "    plt.tight_layout()\n",
    "    plt.show()\n",
    "\n",
    "lineplot_engagement(1, baseline, easy, medium, hard, extreme)"
   ]
  },
  {
   "cell_type": "code",
   "execution_count": null,
   "metadata": {},
   "outputs": [],
   "source": []
  }
 ],
 "metadata": {
  "kernelspec": {
   "display_name": "Python 3",
   "language": "python",
   "name": "python3"
  },
  "language_info": {
   "codemirror_mode": {
    "name": "ipython",
    "version": 3
   },
   "file_extension": ".py",
   "mimetype": "text/x-python",
   "name": "python",
   "nbconvert_exporter": "python",
   "pygments_lexer": "ipython3",
   "version": "3.10.11"
  }
 },
 "nbformat": 4,
 "nbformat_minor": 2
}
